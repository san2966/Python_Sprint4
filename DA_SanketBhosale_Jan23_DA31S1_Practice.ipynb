{
 "cells": [
  {
   "cell_type": "markdown",
   "id": "ebd35804",
   "metadata": {},
   "source": [
    "# Task-1:- Factorial of a number"
   ]
  },
  {
   "cell_type": "markdown",
   "id": "a26fe966",
   "metadata": {},
   "source": [
    "-- Using while loop, write a program to calculate the factorial number of n.\n",
    "-- Accept the number n as an input from the user."
   ]
  },
  {
   "cell_type": "code",
   "execution_count": null,
   "id": "420e345c",
   "metadata": {},
   "outputs": [],
   "source": [
    "n=int(input('Enter the Number: '))\n",
    "factorial=1\n",
    "while n>0:\n",
    "      factorial*=n\n",
    "      n-=1\n",
    "print('The factorial is:',factorial)  "
   ]
  },
  {
   "cell_type": "markdown",
   "id": "e89e98d1",
   "metadata": {},
   "source": [
    "# Task-2:- Prime Numbers "
   ]
  },
  {
   "cell_type": "markdown",
   "id": "8294e630",
   "metadata": {},
   "source": [
    "-- Create a program that uses 'while' loop to check if 50 and 51 are prime numbers"
   ]
  },
  {
   "cell_type": "code",
   "execution_count": 1,
   "id": "6ad7584a",
   "metadata": {},
   "outputs": [
    {
     "name": "stdout",
     "output_type": "stream",
     "text": [
      "not prime\n",
      "not prime\n"
     ]
    }
   ],
   "source": [
    "l1=[50,51]\n",
    "for i in l1:\n",
    "    flag=0\n",
    "    for j in range(1,i):\n",
    "        if i%j==0:\n",
    "            flag=flag+1\n",
    "            \n",
    "    if flag==1:\n",
    "        print('prime')\n",
    "    else:\n",
    "        print('not prime')"
   ]
  },
  {
   "cell_type": "markdown",
   "id": "728484da",
   "metadata": {},
   "source": [
    "# Task-3:- Sum of all digits"
   ]
  },
  {
   "cell_type": "markdown",
   "id": "b1749b61",
   "metadata": {},
   "source": [
    "-- Take input of a five-digit number from user.\n",
    "-- write a program using the 'while' loop to calculate the sum of the digits of the number entered by the user."
   ]
  },
  {
   "cell_type": "code",
   "execution_count": 2,
   "id": "388e6ed7",
   "metadata": {},
   "outputs": [
    {
     "name": "stdout",
     "output_type": "stream",
     "text": [
      "Enter a five digit number:12345\n",
      "the sum of digit is : 15\n"
     ]
    }
   ],
   "source": [
    "n=int(input('Enter a five digit number:'))\n",
    "add=0\n",
    "while n>0:\n",
    "    digit=n%10\n",
    "    add+=digit\n",
    "    n=n//10\n",
    "print('the sum of digit is :',add)"
   ]
  },
  {
   "cell_type": "markdown",
   "id": "20264c3b",
   "metadata": {},
   "source": [
    "# Task-4:- Fibonacci series"
   ]
  },
  {
   "cell_type": "markdown",
   "id": "2292e3cc",
   "metadata": {},
   "source": [
    "-- using 'while' loop, write a program to display the fibonacci series up to 7 values."
   ]
  },
  {
   "cell_type": "code",
   "execution_count": 3,
   "id": "225372a5",
   "metadata": {},
   "outputs": [
    {
     "name": "stdout",
     "output_type": "stream",
     "text": [
      "0 1 1 2 3 5 8 "
     ]
    }
   ],
   "source": [
    "a, b = 0, 1\n",
    "count = 0\n",
    "\n",
    "while count < 7:\n",
    "    print(a, end=' ')\n",
    "    nth = a + b\n",
    "    a = b\n",
    "    b = nth\n",
    "    count += 1\n"
   ]
  },
  {
   "cell_type": "markdown",
   "id": "1062db75",
   "metadata": {},
   "source": [
    "# Task-5:- Adding two tuples"
   ]
  },
  {
   "cell_type": "code",
   "execution_count": 4,
   "id": "6a173b17",
   "metadata": {},
   "outputs": [],
   "source": [
    "t1=(1,2,3)\n",
    "t2=(4,5,6)\n"
   ]
  },
  {
   "cell_type": "code",
   "execution_count": 5,
   "id": "f207c21b",
   "metadata": {},
   "outputs": [
    {
     "data": {
      "text/plain": [
       "2149036272576"
      ]
     },
     "execution_count": 5,
     "metadata": {},
     "output_type": "execute_result"
    }
   ],
   "source": [
    "id(t1)"
   ]
  },
  {
   "cell_type": "code",
   "execution_count": 6,
   "id": "e27a04d3",
   "metadata": {},
   "outputs": [
    {
     "data": {
      "text/plain": [
       "2149036720064"
      ]
     },
     "execution_count": 6,
     "metadata": {},
     "output_type": "execute_result"
    }
   ],
   "source": [
    "id(t2)"
   ]
  },
  {
   "cell_type": "code",
   "execution_count": 8,
   "id": "7ef73bb7",
   "metadata": {},
   "outputs": [
    {
     "data": {
      "text/plain": [
       "(1, 2, 3, 4, 5, 6, 4, 5, 6)"
      ]
     },
     "execution_count": 8,
     "metadata": {},
     "output_type": "execute_result"
    }
   ],
   "source": [
    "t1=t1+t2\n",
    "t1"
   ]
  },
  {
   "cell_type": "code",
   "execution_count": 9,
   "id": "b3dfd722",
   "metadata": {},
   "outputs": [
    {
     "data": {
      "text/plain": [
       "2149008234528"
      ]
     },
     "execution_count": 9,
     "metadata": {},
     "output_type": "execute_result"
    }
   ],
   "source": [
    "id(t1)"
   ]
  },
  {
   "cell_type": "markdown",
   "id": "6206d245",
   "metadata": {},
   "source": [
    "### Interpretation:\n",
    "    -- ID assign for t1 and t2 are unique.\n",
    "    -- the tuple t1 and t2 are getting added but values of t2 are repeated\n",
    "    -- after adding both tuples, the ID also changed."
   ]
  },
  {
   "cell_type": "markdown",
   "id": "32ed28b1",
   "metadata": {},
   "source": [
    "# Task-6:- Inserting data into sets"
   ]
  },
  {
   "cell_type": "code",
   "execution_count": 10,
   "id": "bdf282f2",
   "metadata": {},
   "outputs": [],
   "source": [
    "m={10,20,30,40,50}\n",
    "n=[33,40,55,60,70]"
   ]
  },
  {
   "cell_type": "markdown",
   "id": "5ba13a26",
   "metadata": {},
   "source": [
    "-- Insert the elements of list n into set m one by one and print the output."
   ]
  },
  {
   "cell_type": "code",
   "execution_count": 11,
   "id": "495712cc",
   "metadata": {},
   "outputs": [
    {
     "name": "stdout",
     "output_type": "stream",
     "text": [
      "{33, 50, 20, 40, 10, 30}\n",
      "{33, 50, 20, 40, 10, 30}\n",
      "{33, 50, 20, 55, 40, 10, 30}\n",
      "{33, 50, 20, 55, 40, 10, 60, 30}\n",
      "{70, 10, 20, 30, 33, 40, 50, 55, 60}\n"
     ]
    }
   ],
   "source": [
    "for i in n:\n",
    "    m.add(i)\n",
    "    print(m)"
   ]
  },
  {
   "cell_type": "markdown",
   "id": "4186a868",
   "metadata": {},
   "source": [
    "### Interpretation:\n",
    "    -- In this task list n added in set m.\n",
    "    -- the number 40 was already avilable in set \n",
    "    -- set is only allow for unique values thats why the number 40 is not added again."
   ]
  },
  {
   "cell_type": "markdown",
   "id": "c5727422",
   "metadata": {},
   "source": [
    "# Task-7:- Iterating over a dictionary data structure"
   ]
  },
  {
   "cell_type": "markdown",
   "id": "8d208c31",
   "metadata": {},
   "source": [
    "-- using 'while' loop, create a program that prints those key-value pair that contains even numbers"
   ]
  },
  {
   "cell_type": "code",
   "execution_count": 12,
   "id": "10fce65b",
   "metadata": {},
   "outputs": [],
   "source": [
    "data_set={'python':1,'data':2,'excel':3,'sql':4}"
   ]
  },
  {
   "cell_type": "code",
   "execution_count": 29,
   "id": "7f58df33",
   "metadata": {},
   "outputs": [
    {
     "name": "stdout",
     "output_type": "stream",
     "text": [
      "2 data\n",
      "4 sql\n"
     ]
    }
   ],
   "source": [
    "for key,value in data_set.items():\n",
    "    if value%2==0:\n",
    "        print(value,key)"
   ]
  },
  {
   "cell_type": "markdown",
   "id": "52e640c4",
   "metadata": {},
   "source": [
    "### Interpretation:\n",
    "    -- in this task we got number 2 and 4 as an output.\n",
    "    -- the even number values are data and sql resp."
   ]
  },
  {
   "cell_type": "markdown",
   "id": "9aa3d700",
   "metadata": {},
   "source": [
    "# Task-8:- Populating a dictionary data structure"
   ]
  },
  {
   "cell_type": "markdown",
   "id": "f2ecc9b5",
   "metadata": {},
   "source": [
    "-- write a python program to create a dictionary where the keys are the integers from 1 to 15.\n",
    "-- the values are squares of keys."
   ]
  },
  {
   "cell_type": "code",
   "execution_count": 30,
   "id": "84aa391c",
   "metadata": {},
   "outputs": [
    {
     "name": "stdout",
     "output_type": "stream",
     "text": [
      "{1: 1, 2: 4, 3: 9, 4: 16, 5: 25, 6: 36, 7: 49, 8: 64, 9: 81, 10: 100, 11: 121, 12: 144, 13: 169, 14: 196, 15: 225}\n"
     ]
    }
   ],
   "source": [
    "dict1={}\n",
    "for i in range(1,16):\n",
    "    dict1[i]=i**2\n",
    "print(dict1)"
   ]
  },
  {
   "cell_type": "code",
   "execution_count": 31,
   "id": "2e65af9a",
   "metadata": {},
   "outputs": [],
   "source": [
    "dict1.update({100:10000})"
   ]
  },
  {
   "cell_type": "code",
   "execution_count": 32,
   "id": "4d72dde5",
   "metadata": {},
   "outputs": [
    {
     "data": {
      "text/plain": [
       "{1: 1,\n",
       " 2: 4,\n",
       " 3: 9,\n",
       " 4: 16,\n",
       " 5: 25,\n",
       " 6: 36,\n",
       " 7: 49,\n",
       " 8: 64,\n",
       " 9: 81,\n",
       " 10: 100,\n",
       " 11: 121,\n",
       " 12: 144,\n",
       " 13: 169,\n",
       " 14: 196,\n",
       " 15: 225,\n",
       " 100: 10000}"
      ]
     },
     "execution_count": 32,
     "metadata": {},
     "output_type": "execute_result"
    }
   ],
   "source": [
    "dict1"
   ]
  },
  {
   "cell_type": "markdown",
   "id": "3f816bef",
   "metadata": {},
   "source": [
    "### Interpretation:\n",
    "    -- we successfully created a dictionary which contains key from 1 to 15\n",
    "    -- The value are the square of the key values.\n",
    "    -- after creating dictionary we add a key and value in it using update command."
   ]
  }
 ],
 "metadata": {
  "kernelspec": {
   "display_name": "Python 3 (ipykernel)",
   "language": "python",
   "name": "python3"
  },
  "language_info": {
   "codemirror_mode": {
    "name": "ipython",
    "version": 3
   },
   "file_extension": ".py",
   "mimetype": "text/x-python",
   "name": "python",
   "nbconvert_exporter": "python",
   "pygments_lexer": "ipython3",
   "version": "3.9.13"
  }
 },
 "nbformat": 4,
 "nbformat_minor": 5
}
